{
 "cells": [
  {
   "cell_type": "markdown",
   "id": "fd0a6c38-d9ef-4058-b12b-a849c5f50dab",
   "metadata": {},
   "source": [
    "# Single Variable Linear Regression"
   ]
  },
  {
   "cell_type": "code",
   "execution_count": 1,
   "id": "449b5430-b9de-4cf5-aab1-cb678203a6e6",
   "metadata": {
    "collapsed": true,
    "jupyter": {
     "outputs_hidden": true,
     "source_hidden": true
    }
   },
   "outputs": [
    {
     "name": "stdout",
     "output_type": "stream",
     "text": [
      "Requirement already satisfied: kagglehub[pandas-datasets] in /opt/anaconda3/lib/python3.12/site-packages (0.3.10)\n",
      "Requirement already satisfied: packaging in /opt/anaconda3/lib/python3.12/site-packages (from kagglehub[pandas-datasets]) (24.1)\n",
      "Requirement already satisfied: pyyaml in /opt/anaconda3/lib/python3.12/site-packages (from kagglehub[pandas-datasets]) (6.0.1)\n",
      "Requirement already satisfied: requests in /opt/anaconda3/lib/python3.12/site-packages (from kagglehub[pandas-datasets]) (2.32.3)\n",
      "Requirement already satisfied: tqdm in /opt/anaconda3/lib/python3.12/site-packages (from kagglehub[pandas-datasets]) (4.66.5)\n",
      "Requirement already satisfied: pandas in /opt/anaconda3/lib/python3.12/site-packages (from kagglehub[pandas-datasets]) (2.2.2)\n",
      "Requirement already satisfied: numpy>=1.26.0 in /opt/anaconda3/lib/python3.12/site-packages (from pandas->kagglehub[pandas-datasets]) (1.26.4)\n",
      "Requirement already satisfied: python-dateutil>=2.8.2 in /opt/anaconda3/lib/python3.12/site-packages (from pandas->kagglehub[pandas-datasets]) (2.9.0.post0)\n",
      "Requirement already satisfied: pytz>=2020.1 in /opt/anaconda3/lib/python3.12/site-packages (from pandas->kagglehub[pandas-datasets]) (2024.1)\n",
      "Requirement already satisfied: tzdata>=2022.7 in /opt/anaconda3/lib/python3.12/site-packages (from pandas->kagglehub[pandas-datasets]) (2023.3)\n",
      "Requirement already satisfied: charset-normalizer<4,>=2 in /opt/anaconda3/lib/python3.12/site-packages (from requests->kagglehub[pandas-datasets]) (3.3.2)\n",
      "Requirement already satisfied: idna<4,>=2.5 in /opt/anaconda3/lib/python3.12/site-packages (from requests->kagglehub[pandas-datasets]) (3.7)\n",
      "Requirement already satisfied: urllib3<3,>=1.21.1 in /opt/anaconda3/lib/python3.12/site-packages (from requests->kagglehub[pandas-datasets]) (2.2.3)\n",
      "Requirement already satisfied: certifi>=2017.4.17 in /opt/anaconda3/lib/python3.12/site-packages (from requests->kagglehub[pandas-datasets]) (2025.1.31)\n",
      "Requirement already satisfied: six>=1.5 in /opt/anaconda3/lib/python3.12/site-packages (from python-dateutil>=2.8.2->pandas->kagglehub[pandas-datasets]) (1.16.0)\n"
     ]
    }
   ],
   "source": [
    "!pip install \"kagglehub[pandas-datasets]\""
   ]
  },
  {
   "cell_type": "code",
   "execution_count": 61,
   "id": "8d2694a6-d8f4-46ac-ae6d-7b9b1a682577",
   "metadata": {},
   "outputs": [],
   "source": [
    "import pandas as pd\n",
    "import numpy as np\n",
    "import matplotlib.pyplot as plt"
   ]
  },
  {
   "cell_type": "code",
   "execution_count": 63,
   "id": "10ce98a7-9b8b-4ace-8162-9b037264bd9b",
   "metadata": {},
   "outputs": [
    {
     "name": "stderr",
     "output_type": "stream",
     "text": [
      "/var/folders/wb/bbx4x6g50r19sn7pzmhzhfpm0000gn/T/ipykernel_36839/2388762510.py:10: DeprecationWarning: load_dataset is deprecated and will be removed in future version.\n",
      "  df = kagglehub.load_dataset(\n"
     ]
    },
    {
     "name": "stdout",
     "output_type": "stream",
     "text": [
      "First 5 records:                         name mfr type  calories  protein  fat  sodium  fiber  \\\n",
      "0                  100% Bran   N    C        70        4    1     130   10.0   \n",
      "1          100% Natural Bran   Q    C       120        3    5      15    2.0   \n",
      "2                   All-Bran   K    C        70        4    1     260    9.0   \n",
      "3  All-Bran with Extra Fiber   K    C        50        4    0     140   14.0   \n",
      "4             Almond Delight   R    C       110        2    2     200    1.0   \n",
      "\n",
      "   carbo  sugars  potass  vitamins  shelf  weight  cups     rating  \n",
      "0    5.0       6     280        25      3     1.0  0.33  68.402973  \n",
      "1    8.0       8     135         0      3     1.0  1.00  33.983679  \n",
      "2    7.0       5     320        25      3     1.0  0.33  59.425505  \n",
      "3    8.0       0     330        25      3     1.0  0.50  93.704912  \n",
      "4   14.0       8      -1        25      3     1.0  0.75  34.384843  \n"
     ]
    }
   ],
   "source": [
    "# Install dependencies as needed:\n",
    "# pip install kagglehub[pandas-datasets]\n",
    "import kagglehub\n",
    "from kagglehub import KaggleDatasetAdapter\n",
    "\n",
    "# Set the path to the file you'd like to load\n",
    "file_path = \"cereal.csv\"\n",
    "\n",
    "# Load the latest version\n",
    "df = kagglehub.load_dataset(\n",
    "  KaggleDatasetAdapter.PANDAS,\n",
    "  \"crawford/80-cereals\",\n",
    "  file_path,\n",
    "  # Provide any additional arguments like \n",
    "  # sql_query or pandas_kwargs. See the \n",
    "  # documenation for more information:\n",
    "  # https://github.com/Kaggle/kagglehub/blob/main/README.md#kaggledatasetadapterpandas\n",
    ")\n",
    "\n",
    "print(\"First 5 records:\", df.head())"
   ]
  },
  {
   "cell_type": "code",
   "execution_count": 64,
   "id": "eb2b5369-c895-429d-8bb3-e78c3086c2b5",
   "metadata": {},
   "outputs": [],
   "source": [
    "y = df[\"calories\"]\n",
    "x = df[\"sugars\"]\n",
    "y = y.to_numpy()\n",
    "x = x.to_numpy()"
   ]
  },
  {
   "cell_type": "code",
   "execution_count": 66,
   "id": "cad59258-0b03-4550-88a5-f80c8fb00140",
   "metadata": {},
   "outputs": [
    {
     "data": {
      "image/png": "[encoded data removed]",
      "text/plain": [
       "<Figure size 640x480 with 1 Axes>"
      ]
     },
     "metadata": {},
     "output_type": "display_data"
    }
   ],
   "source": [
    "plt.scatter(x,y)\n",
    "plt.show()"
   ]
  },
  {
   "cell_type": "code",
   "execution_count": 177,
   "id": "6b93daea-11e5-439f-9c3c-25fdc1d8c1b8",
   "metadata": {},
   "outputs": [],
   "source": [
    "ALPHA = 0.01\n",
    "ITERS = 10000"
   ]
  },
  {
   "cell_type": "code",
   "execution_count": 179,
   "id": "aeb3ba4b-964b-430c-9b2c-13aa0f42dbf0",
   "metadata": {},
   "outputs": [],
   "source": [
    "def grad_w(x, y, w, b):\n",
    "    m = len(y)\n",
    "    y_hat = w * x + b\n",
    "    J_w = 1 / m * np.sum(x * (y_hat - y))\n",
    "    return J_w\n",
    "    \n",
    "def grad_b(x, y, w, b):\n",
    "    m = len(y)\n",
    "    y_hat = w * x + b\n",
    "    J_b = 1 / m * np.sum(y_hat - y)\n",
    "    return J_b\n",
    "\n",
    "def gradient_desc(x, y, w, b):\n",
    "    for i in range(ITERS):\n",
    "        w_ = w - ALPHA * grad_w(x, y, w, b)\n",
    "        b_ = b - ALPHA * grad_b(x, y, w, b)\n",
    "        w = w_\n",
    "        b = b_\n",
    "    return [w, b]"
   ]
  },
  {
   "cell_type": "code",
   "execution_count": 181,
   "id": "f8c5da56-20c6-42b5-81af-ff4c6002aa50",
   "metadata": {},
   "outputs": [
    {
     "name": "stdout",
     "output_type": "stream",
     "text": [
      "2.4650140981540645\n",
      "89.82009721666476\n"
     ]
    }
   ],
   "source": [
    "w = 0\n",
    "b = 0\n",
    "w, b = gradient_desc(x, y, w, b)\n",
    "print(w)\n",
    "print(b)"
   ]
  },
  {
   "cell_type": "code",
   "execution_count": 183,
   "id": "c506e903-3a1c-41dc-b015-fd3bf26e9ce2",
   "metadata": {},
   "outputs": [],
   "source": [
    "from sklearn import linear_model\n",
    "\n",
    "reg = linear_model.LinearRegression()\n",
    "reg.fit(x.reshape(-1, 1), y)\n",
    "w_skl = reg.coef_\n",
    "b_skl = reg.intercept_"
   ]
  },
  {
   "cell_type": "code",
   "execution_count": 191,
   "id": "6e480aeb-8012-4526-b7f5-2a9fcbcdcf97",
   "metadata": {},
   "outputs": [
    {
     "data": {
      "image/png": "[encoded data removed]",
      "text/plain": [
       "<Figure size 640x480 with 1 Axes>"
      ]
     },
     "metadata": {},
     "output_type": "display_data"
    }
   ],
   "source": [
    "x_line = np.linspace(np.min(x), np.max(x), 100)\n",
    "plt.plot(x_line, w * x_line + b)\n",
    "plt.plot(x_line, w_skl * x_line + b_skl, linestyle=\"dashed\")\n",
    "plt.scatter(x,y)\n",
    "plt.show()"
   ]
  }
 ],
 "metadata": {
  "kernelspec": {
   "display_name": "Python [conda env:base] *",
   "language": "python",
   "name": "conda-base-py"
  },
  "language_info": {
   "codemirror_mode": {
    "name": "ipython",
    "version": 3
   },
   "file_extension": ".py",
   "mimetype": "text/x-python",
   "name": "python",
   "nbconvert_exporter": "python",
   "pygments_lexer": "ipython3",
   "version": "3.12.7"
  }
 },
 "nbformat": 4,
 "nbformat_minor": 5
}
