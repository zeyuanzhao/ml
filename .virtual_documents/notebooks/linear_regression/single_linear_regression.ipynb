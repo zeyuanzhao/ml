


!pip install "kagglehub[pandas-datasets]"


import pandas as pd
import numpy as np
import matplotlib.pyplot as plt


# Install dependencies as needed:
# pip install kagglehub[pandas-datasets]
import kagglehub
from kagglehub import KaggleDatasetAdapter

# Set the path to the file you'd like to load
file_path = "cereal.csv"

# Load the latest version
df = kagglehub.load_dataset(
  KaggleDatasetAdapter.PANDAS,
  "crawford/80-cereals",
  file_path,
  # Provide any additional arguments like 
  # sql_query or pandas_kwargs. See the 
  # documenation for more information:
  # https://github.com/Kaggle/kagglehub/blob/main/README.md#kaggledatasetadapterpandas
)

print("First 5 records:", df.head())


y = df["calories"]
x = df["sugars"]
y = y.to_numpy()
x = x.to_numpy()


plt.scatter(x,y)
plt.show()


ALPHA = 0.01
ITERS = 10000


def grad_w(x, y, w, b):
    m = len(y)
    y_hat = w * x + b
    J_w = 1 / m * np.sum(x * (y_hat - y))
    return J_w
    
def grad_b(x, y, w, b):
    m = len(y)
    y_hat = w * x + b
    J_b = 1 / m * np.sum(y_hat - y)
    return J_b

def gradient_desc(x, y, w, b):
    for i in range(ITERS):
        w_ = w - ALPHA * grad_w(x, y, w, b)
        b_ = b - ALPHA * grad_b(x, y, w, b)
        w = w_
        b = b_
    return [w, b]


w = 0
b = 0
w, b = gradient_desc(x, y, w, b)
print(w)
print(b)


from sklearn import linear_model

reg = linear_model.LinearRegression()
reg.fit(x.reshape(-1, 1), y)
w_skl = reg.coef_
b_skl = reg.intercept_


x_line = np.linspace(np.min(x), np.max(x), 100)
plt.plot(x_line, w * x_line + b)
plt.plot(x_line, w_skl * x_line + b_skl, linestyle="dashed")
plt.scatter(x,y)
plt.show()
