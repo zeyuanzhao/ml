


!pip install "kagglehub[pandas-datasets]"


import pandas as pd
import numpy as np
import matplotlib.pyplot as plt


# Install dependencies as needed:
# pip install kagglehub[pandas-datasets]
import kagglehub
from kagglehub import KaggleDatasetAdapter

# Set the path to the file you'd like to load
file_path = "kc_house_data.csv"

# Load the latest version
df = kagglehub.load_dataset(
  KaggleDatasetAdapter.PANDAS,
  "harlfoxem/housesalesprediction",
  file_path,
  # Provide any additional arguments like 
  # sql_query or pandas_kwargs. See the 
  # documenation for more information:
  # https://github.com/Kaggle/kagglehub/blob/main/README.md#kaggledatasetadapterpandas
)

print("First 5 records: \n", df.head())


features = ["bedrooms", "bathrooms", "sqft_living", "sqft_lot", "floors", "waterfront", "view", "condition", "grade", "sqft_basement", "sqft_living15", "sqft_lot15"]
y = df[["price"]].to_numpy()
X = df[features].to_numpy()


y.shape


ITERS = 5000
ALPHA = 0.0001


def grad_w(X, y, w, b):
    y_hat = np.dot(X, w) + b
    print(np.dot(X,w))
    m = len(y)
    J_w = 1 / m * np.sum(np.dot(X.T, (y_hat - y)).T)
    return J_w
    
def grad_b(X, y, w, b):
    y_hat = np.dot(X, w) + b
    m = len(y)
    J_b = 1 / m * np.sum((y_hat - y))
    return J_b

def gradient_desc(X, y, w, b):
    for i in range(ITERS):
        if i % 500:
            print(w, b)
        w_ = w - ALPHA * grad_w(X, y, w, b)
        b_ = b - ALPHA * grad_b(X, y, w, b)
        w = w_
        b = b_
    return [w, b]

# def mse(X, y, w, b):


w = np.zeros((X.shape[1], 1))
b = 0
print(X.shape)
w, b = gradient_desc(X, y, w, b)






